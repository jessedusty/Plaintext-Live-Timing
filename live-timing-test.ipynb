{
 "cells": [
  {
   "cell_type": "code",
   "execution_count": 141,
   "metadata": {},
   "outputs": [],
   "source": [
    "import urllib.request\n",
    "from operator import itemgetter\n",
    "\n",
    "\n",
    "DNF_time = 9999\n",
    "\n",
    "def parse_time(time):\n",
    "    if \"DSQ\" in time or \"DNF\" in time or \"DNS\" in time:\n",
    "        return DNF_time\n",
    "    if \":\" in time:\n",
    "        parts = time.split(\":\")\n",
    "        return int(parts[0]) * 60 + float(parts[1])\n",
    "    return float(time)\n",
    "\n",
    "def get_text(url):\n",
    "    with urllib.request.urlopen(url) as f:\n",
    "        return f.read().decode(\"UTF-8\")\n",
    "    \n",
    "def print_person(person):\n",
    "    print(person[\"name\"] + \" #\" + str(person[\"place\"]))\n",
    "    print(\" r1: \" + person[\"r1\"])\n",
    "    print(\" r2: \" + person[\"r2\"]) \n",
    "    print( \" c: \" + person[\"tt\"]) "
   ]
  },
  {
   "cell_type": "code",
   "execution_count": 117,
   "metadata": {},
   "outputs": [],
   "source": [
    "url = \"http://www.live-timing.com/includes/aj_race.php?r=185595&&m=1&&u=5\"\n",
    "content = get_text(url)"
   ]
  },
  {
   "cell_type": "code",
   "execution_count": 140,
   "metadata": {},
   "outputs": [],
   "source": [
    "a = [ i.split(\"=\") for i in content.split(\"|\") ]\n",
    "\n",
    "racer = {\"s_tt\": DNF_time}\n",
    "racers = []\n",
    "for a in html_doc.split(\"|\"):\n",
    "    b = a.split(\"=\")\n",
    "    if b[0] == \"m\":\n",
    "        if \"name\" in racer:\n",
    "            racers.append(racer)\n",
    "        racer = {\"s_tt\": DNF_time}\n",
    "        racer[\"name\"] = b[1] \n",
    "    elif b[0] == \"t\":\n",
    "        racer[\"team\"] = b[1]\n",
    "    elif b[0] == \"r1\":\n",
    "        racer[\"r1\"] = b[1]\n",
    "        racer[\"s_r1\"] = parse_time(b[1])\n",
    "    elif b[0] == \"r2\":\n",
    "        racer[\"r2\"] = b[1]\n",
    "        racer[\"s_r2\"] = parse_time(b[1])\n",
    "    elif b[0] == \"tt\":\n",
    "        racer[\"tt\"] = b[1]\n",
    "        racer[\"s_tt\"] = parse_time(b[1])\n",
    "\n",
    "newlist = sorted(racers, key=itemgetter(\"s_tt\"))\n",
    "\n",
    "for i, n in enumerate(newlist):\n",
    "    n[\"place\"] = i+1\n",
    "    "
   ]
  },
  {
   "cell_type": "code",
   "execution_count": 142,
   "metadata": {},
   "outputs": [
    {
     "name": "stdout",
     "output_type": "stream",
     "text": [
      "Alexander Manzari #7\n",
      " r1: 30.36\n",
      " r2: 31.19\n",
      " c: 1:01.55\n",
      "Jesse Stevenson #37\n",
      " r1: 36.04\n",
      " r2: 34.26\n",
      " c: 1:10.30\n",
      "Andrew OBrien #39\n",
      " r1: 35.10\n",
      " r2: 36.25\n",
      " c: 1:11.35\n",
      "Matthew Morandi #43\n",
      " r1: 35.95\n",
      " r2: 36.54\n",
      " c: 1:12.49\n"
     ]
    }
   ],
   "source": [
    "for i in filter(lambda x: x[\"team\"]==\"SIT\", newlist): \n",
    "    print_person(i)\n"
   ]
  },
  {
   "cell_type": "code",
   "execution_count": 128,
   "metadata": {},
   "outputs": [
    {
     "data": {
      "text/plain": [
       "<filter at 0x10d464208>"
      ]
     },
     "execution_count": 128,
     "metadata": {},
     "output_type": "execute_result"
    }
   ],
   "source": []
  },
  {
   "cell_type": "code",
   "execution_count": null,
   "metadata": {},
   "outputs": [],
   "source": []
  }
 ],
 "metadata": {
  "kernelspec": {
   "display_name": "Python 3",
   "language": "python",
   "name": "python3"
  },
  "language_info": {
   "codemirror_mode": {
    "name": "ipython",
    "version": 3
   },
   "file_extension": ".py",
   "mimetype": "text/x-python",
   "name": "python",
   "nbconvert_exporter": "python",
   "pygments_lexer": "ipython3",
   "version": "3.6.3"
  }
 },
 "nbformat": 4,
 "nbformat_minor": 2
}
